{
 "cells": [
  {
   "cell_type": "code",
   "execution_count": 1,
   "metadata": {},
   "outputs": [],
   "source": [
    "import wx"
   ]
  },
  {
   "cell_type": "code",
   "execution_count": null,
   "metadata": {},
   "outputs": [],
   "source": [
    "app = wx.App()\n",
    "fr = wx.Frame(None, -1, \"A\")\n",
    "app.MainLoop()"
   ]
  },
  {
   "cell_type": "code",
   "execution_count": null,
   "metadata": {
    "collapsed": true
   },
   "outputs": [],
   "source": []
  }
 ],
 "metadata": {
  "kernelspec": {
   "display_name": "Python 3",
   "language": "python",
   "name": "python3"
  },
  "language_info": {
   "codemirror_mode": {
    "name": "ipython",
    "version": 3
   },
   "file_extension": ".py",
   "mimetype": "text/x-python",
   "name": "python",
   "nbconvert_exporter": "python",
   "pygments_lexer": "ipython3",
   "version": "3.6.5"
  },
  "nikola": {
   "category": "",
   "date": "2016-10-22 19:05:52 UTC-05:00",
   "description": "",
   "link": "",
   "slug": "matematicas-con-pythonsympy-i-una-introduccion",
   "tags": "sympy, matemáticas, draft",
   "title": "Matemáticas con Python/SymPy I. Una introducción",
   "type": "text"
  }
 },
 "nbformat": 4,
 "nbformat_minor": 1
}
