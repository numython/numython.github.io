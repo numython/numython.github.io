{
 "cells": [
  {
   "cell_type": "markdown",
   "metadata": {},
   "source": [
    "La cinemática inversa de un manipulador consiste en calcular los valores articulares requeridos para *alcanzar* una determinada posición y orientación en el espacio. Existen diversos métodos para el cálculo de la cinemática inversa, desde la obtención de soluciones en forma cerrada (deseable) hasta la implementación de técnicas numéricas.\n",
    "\n",
    "![RR](/img/rr_robot.PNG)\n",
    "\n",
    "En este caso se obtendrá la cinemática inversa del manipulador planar RR de dos grados libertad utilizando tres métodos, a saber:\n",
    "\n",
    "1. Método geométrico\n",
    "1. Método analítico\n",
    "1. Utilizando la Pseudoinversa del Jacobiano \n",
    "\n",
    "\n",
    "## Método geométrico\n",
    "\n",
    "El método geométrico, de manera general, consiste en establecer una serie de construcciones geométricas (típicamente triángulos) y mediante relaciones trigonométricas calcular los valores de interés.\n",
    "\n",
    "\n",
    "De la figura se observa que la distancia $r$ se puede calcular como:\n",
    "\n",
    "$$ r = \\sqrt{x^2+y^2} $$\n",
    "\n",
    "Además, por ley de cosenos se tiene:\n",
    "\n",
    "$$ r^2 = L_1^2 + L_2^2 + 2 L_1 L_2 \\cos\\theta_2 $$\n",
    "\n",
    "De tal modo que:\n",
    "\n",
    "$$ \\cos\\theta_2 = \\frac{r^2 - L_1^2 - L_2^2}{2 L_1 L_2} $$\n",
    "\n"
   ]
  },
  {
   "cell_type": "code",
   "execution_count": null,
   "metadata": {},
   "outputs": [],
   "source": []
  }
 ],
 "metadata": {
  "kernelspec": {
   "display_name": "Python 3",
   "language": "python",
   "name": "python3"
  },
  "language_info": {
   "codemirror_mode": {
    "name": "ipython",
    "version": 3
   },
   "file_extension": ".py",
   "mimetype": "text/x-python",
   "name": "python",
   "nbconvert_exporter": "python",
   "pygments_lexer": "ipython3",
   "version": "3.6.3"
  },
  "nikola": {
   "category": "",
   "date": "2018-04-04 20:32:54 UTC-05:00",
   "description": "",
   "link": "",
   "slug": "cinematica-inversa-de-un-manipulador-rr",
   "tags": "kinematics,robotics,mathjax",
   "title": "Cinemática inversa de un manipulador RR",
   "type": "text"
  }
 },
 "nbformat": 4,
 "nbformat_minor": 2
}
