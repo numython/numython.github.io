{
 "cells": [
  {
   "cell_type": "markdown",
   "metadata": {},
   "source": [
    "El ciclo `for` es una estructura cíclica cuya finalidad es ejecutar un código una cierta cantidad de veces. De manera general, en Python, la sintaxis de `for` es:\n",
    "\n",
    "```python\n",
    "for k in iterable:\n",
    "    # hacer algo\n",
    "```\n",
    "\n",
    "Donde `iterable` es justamente eso, un iterable de Python que puede ser desde una lista hasta un string. Para la i-ésima iteración la variable de ciclo `k` adoptará el valor en la i-ésima posición de `iterable`.\n",
    "\n",
    "A continuación vemos un ejemplo muy básico:"
   ]
  },
  {
   "cell_type": "code",
   "execution_count": 5,
   "metadata": {},
   "outputs": [
    {
     "name": "stdout",
     "output_type": "stream",
     "text": [
      "10\n",
      "20\n",
      "30\n",
      "40\n",
      "50\n",
      "60\n"
     ]
    }
   ],
   "source": [
    "numeros = [10,20,30,40,50,60]\n",
    "for numero in numeros:\n",
    "    print(numero)"
   ]
  },
  {
   "cell_type": "markdown",
   "metadata": {},
   "source": [
    "Observe que lo único que se hace es imprimir cada elemento que compone la lista `numeros`.\n",
    "\n",
    "Revisemos ahora el siguiente ejemplo:"
   ]
  },
  {
   "cell_type": "code",
   "execution_count": 7,
   "metadata": {},
   "outputs": [
    {
     "name": "stdout",
     "output_type": "stream",
     "text": [
      "10 100\n",
      "20 400\n",
      "30 900\n",
      "40 1600\n",
      "50 2500\n",
      "60 3600\n"
     ]
    }
   ],
   "source": [
    "numeros = [10,20,30,40,50,60]\n",
    "for numero in numeros:\n",
    "    print(numero, numero**2)"
   ]
  },
  {
   "cell_type": "markdown",
   "metadata": {},
   "source": [
    "Note que la única diferencia radica, en que además del propio número, también imprimos su cuadrado.\n",
    "\n",
    "Naturalmente, no sólo podemos \"recorrer\" listas, sino cualquier elemento que sea iterable, como es el caso de los strings."
   ]
  },
  {
   "cell_type": "code",
   "execution_count": 9,
   "metadata": {},
   "outputs": [
    {
     "name": "stdout",
     "output_type": "stream",
     "text": [
      "Hola Ana\n",
      "Hola Lucas\n",
      "Hola Catalina\n",
      "Hola Javier\n"
     ]
    }
   ],
   "source": [
    "nombres = [\"Ana\", \"Lucas\", \"Catalina\", \"Javier\"]\n",
    "for nombre in nombres:\n",
    "    print(\"Hola \" + nombre)"
   ]
  },
  {
   "cell_type": "markdown",
   "metadata": {},
   "source": [
    "En ocasiones tenemos iterables dentro de otro iterable. Es posible acceder a cada elemento del sub-iterable utilizando múltiple variables de ciclo. Por ejemplo:"
   ]
  },
  {
   "cell_type": "code",
   "execution_count": 22,
   "metadata": {},
   "outputs": [
    {
     "name": "stdout",
     "output_type": "stream",
     "text": [
      "Px = 0,  Py =0\n",
      "Px = 3,  Py =5\n",
      "Px = -1,  Py =4\n",
      "Px = 10,  Py =2\n"
     ]
    }
   ],
   "source": [
    "puntos = [(0,0), (3,5), (-1,4), (10,2)]\n",
    "for x,y in puntos:\n",
    "    print(\"Px = {0},  Py ={1}\".format(x,y))"
   ]
  },
  {
   "cell_type": "markdown",
   "metadata": {},
   "source": [
    "Una utilidad muy común es la de la función `enumerate`:"
   ]
  },
  {
   "cell_type": "code",
   "execution_count": 24,
   "metadata": {},
   "outputs": [
    {
     "name": "stdout",
     "output_type": "stream",
     "text": [
      "La nota en posición 0 es: 10\n",
      "La nota en posición 1 es: 8\n",
      "La nota en posición 2 es: 10\n",
      "La nota en posición 3 es: 9\n",
      "La nota en posición 4 es: 10\n",
      "La nota en posición 5 es: 7\n"
     ]
    }
   ],
   "source": [
    "notas = [10,8,10,9,10,7]\n",
    "for k,nota in enumerate(notas):\n",
    "    print(\"La nota en posición {0} es: {1}\".format(k,nota))"
   ]
  },
  {
   "cell_type": "markdown",
   "metadata": {},
   "source": [
    "De manera muy breve, la variable de ciclo `k` devuelve la posición del elemento para cada iteración."
   ]
  },
  {
   "cell_type": "markdown",
   "metadata": {},
   "source": [
    "## Algunos ejemplos utilizando ciclos `for`"
   ]
  },
  {
   "cell_type": "markdown",
   "metadata": {},
   "source": [
    "### Una tabla de multiplicar"
   ]
  },
  {
   "cell_type": "code",
   "execution_count": 27,
   "metadata": {},
   "outputs": [
    {
     "name": "stdout",
     "output_type": "stream",
     "text": [
      "2 x 1 = 2\n",
      "2 x 2 = 4\n",
      "2 x 3 = 6\n",
      "2 x 4 = 8\n",
      "2 x 5 = 10\n",
      "2 x 6 = 12\n",
      "2 x 7 = 14\n",
      "2 x 8 = 16\n",
      "2 x 9 = 18\n",
      "2 x 10 = 20\n"
     ]
    }
   ],
   "source": [
    "n = 2\n",
    "for k in range(1,11):\n",
    "    print(\"{0} x {1} = {2}\".format(n,k,n*k))"
   ]
  },
  {
   "cell_type": "markdown",
   "metadata": {},
   "source": [
    "### Un triángulo de caracteres"
   ]
  },
  {
   "cell_type": "code",
   "execution_count": 30,
   "metadata": {},
   "outputs": [
    {
     "name": "stdout",
     "output_type": "stream",
     "text": [
      "*\n",
      "**\n",
      "***\n",
      "****\n",
      "*****\n",
      "******\n",
      "*******\n",
      "********\n",
      "*********\n",
      "**********\n"
     ]
    }
   ],
   "source": [
    "n = 10\n",
    "for k in range(1,n+1):\n",
    "    print(\"*\"*k)"
   ]
  },
  {
   "cell_type": "markdown",
   "metadata": {},
   "source": [
    "### Contando vocales"
   ]
  },
  {
   "cell_type": "code",
   "execution_count": 46,
   "metadata": {},
   "outputs": [
    {
     "name": "stdout",
     "output_type": "stream",
     "text": [
      "Hay 8 vocales\n"
     ]
    }
   ],
   "source": [
    "frase = \"Anita lava la tina\"\n",
    "k = 0\n",
    "for letra in frase.lower():\n",
    "    if letra in (\"a\",\"e\",\"i\",\"o\",\"u\"):\n",
    "        k += 1\n",
    "\n",
    "print(\"Hay {0} vocales\".format(k))"
   ]
  },
  {
   "cell_type": "markdown",
   "metadata": {},
   "source": [
    "### La suma de los primeros cien enteros positivos"
   ]
  },
  {
   "cell_type": "code",
   "execution_count": 47,
   "metadata": {},
   "outputs": [
    {
     "name": "stdout",
     "output_type": "stream",
     "text": [
      "5050\n"
     ]
    }
   ],
   "source": [
    "suma = 0\n",
    "for num in range(1,101):\n",
    "    suma += num\n",
    "\n",
    "print(suma)"
   ]
  }
 ],
 "metadata": {
  "kernelspec": {
   "display_name": "Python 3",
   "language": "python",
   "name": "python3"
  },
  "language_info": {
   "codemirror_mode": {
    "name": "ipython",
    "version": 3
   },
   "file_extension": ".py",
   "mimetype": "text/x-python",
   "name": "python",
   "nbconvert_exporter": "python",
   "pygments_lexer": "ipython3",
   "version": "3.6.5"
  },
  "nikola": {
   "category": "",
   "date": "2019-03-17 11:57:21 UTC-06:00",
   "description": "",
   "link": "",
   "slug": "el-ciclo-for",
   "tags": "",
   "title": "El ciclo for en Python",
   "type": "text"
  }
 },
 "nbformat": 4,
 "nbformat_minor": 2
}
