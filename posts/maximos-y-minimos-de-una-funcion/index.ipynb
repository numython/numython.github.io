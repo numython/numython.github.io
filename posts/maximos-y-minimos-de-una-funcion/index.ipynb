{
 "cells": [
  {
   "cell_type": "markdown",
   "metadata": {},
   "source": [
    "Supongamos que en $x=x_1$ la derivada de la función $y=f(x)$ se reduce a cero, es decir, $f'(x)=0$. Admitamos, además que existe la segunda derivada, $f''(x)$, y es continua sobre cierta vecindad del punto $x_1$. Para este caso es válido el siguiente teorema:\n",
    "\n",
    "> **Teorema 1.** Si $f'(x_1)=0$, entonces en $x=x_1$ la función tiene máximo cuando $f''(x_1)<0$, y, un mínimo cuando $f''(x_1)>0$.\n",
    "\n",
    "De acuerdo al teorema anterior, para caracterizar los puntos críticos de una función $f(x)$ es necesario utilizar el criterio de la segunda derivada. Entendiendo que los puntos críticos se obtiene de resolver la ecuación $f'(x)=0$.\n",
    "\n",
    "En Python es posible realizar cálculo simbólico mediante la librería SymPy.\n",
    "\n",
    "---\n",
    "\n",
    "**Ejemplo 1.** *Calcular y caracterizar los puntos críticos de la función $f(x) = x^3 - x$*\n",
    "\n",
    "Primero, y como siempre, importamos los módulos necesarios."
   ]
  },
  {
   "cell_type": "code",
   "execution_count": 48,
   "metadata": {
    "collapsed": true
   },
   "outputs": [],
   "source": [
    "from sympy import *\n",
    "from sympy.plotting import plot\n",
    "from sympy.abc import x\n",
    "init_printing()"
   ]
  },
  {
   "cell_type": "markdown",
   "metadata": {},
   "source": [
    "Definimos la función con la cual operaremos:"
   ]
  },
  {
   "cell_type": "code",
   "execution_count": 22,
   "metadata": {
    "collapsed": false
   },
   "outputs": [],
   "source": [
    "f = x**3 - x"
   ]
  },
  {
   "cell_type": "markdown",
   "metadata": {},
   "source": [
    "Acto seguido, calculamos la primera y segunda derivada de $f(x)$ mediante la función `diff`:"
   ]
  },
  {
   "cell_type": "code",
   "execution_count": 49,
   "metadata": {
    "collapsed": false
   },
   "outputs": [
    {
     "data": {
      "image/png": "[encoded data removed]",
      "text/latex": [
       "$$\\left ( 3 x^{2} - 1, \\quad 6 x\\right )$$"
      ],
      "text/plain": [
       "⎛   2         ⎞\n",
       "⎝3⋅x  - 1, 6⋅x⎠"
      ]
     },
     "execution_count": 49,
     "metadata": {},
     "output_type": "execute_result"
    }
   ],
   "source": [
    "df = diff(f, x) # 1era. derivada\n",
    "d2f = diff(f,x,2) # Segunda derivada\n",
    "df, d2f"
   ]
  },
  {
   "cell_type": "markdown",
   "metadata": {},
   "source": [
    "Los puntos críticos los calculamos resolviendo la ecuación $f'(x)=0$"
   ]
  },
  {
   "cell_type": "code",
   "execution_count": 50,
   "metadata": {
    "collapsed": false
   },
   "outputs": [
    {
     "data": {
      "image/png": "[encoded data removed]",
      "text/latex": [
       "$$\\left [ - \\frac{\\sqrt{3}}{3}, \\quad \\frac{\\sqrt{3}}{3}\\right ]$$"
      ],
      "text/plain": [
       "⎡-√3   √3⎤\n",
       "⎢────, ──⎥\n",
       "⎣ 3    3 ⎦"
      ]
     },
     "execution_count": 50,
     "metadata": {},
     "output_type": "execute_result"
    }
   ],
   "source": [
    "pc = solve(Eq(df, 0))\n",
    "pc"
   ]
  },
  {
   "cell_type": "markdown",
   "metadata": {},
   "source": [
    "Para determinar si se trata de un mínimo o máximo, utilizamos el criterio de la segunda derivada, sustituyendo los puntos críticos en $f''(x)$, es decir:"
   ]
  },
  {
   "cell_type": "code",
   "execution_count": 51,
   "metadata": {
    "collapsed": false
   },
   "outputs": [
    {
     "data": {
      "image/png": "[encoded data removed]",
      "text/latex": [
       "$$- 2 \\sqrt{3}$$"
      ],
      "text/plain": [
       "-2⋅√3"
      ]
     },
     "execution_count": 51,
     "metadata": {},
     "output_type": "execute_result"
    }
   ],
   "source": [
    "d2f.subs(x,pc[0]) # Primer punto crítico"
   ]
  },
  {
   "cell_type": "code",
   "execution_count": 52,
   "metadata": {
    "collapsed": false
   },
   "outputs": [
    {
     "data": {
      "image/png": "[encoded data removed]",
      "text/latex": [
       "$$2 \\sqrt{3}$$"
      ],
      "text/plain": [
       "2⋅√3"
      ]
     },
     "execution_count": 52,
     "metadata": {},
     "output_type": "execute_result"
    }
   ],
   "source": [
    "d2f.subs(x,pc[1]) # Segundo punto crítico"
   ]
  },
  {
   "cell_type": "markdown",
   "metadata": {},
   "source": [
    "Con esto determinamos, acorde al teorema 1, que el primer punto crítico $\\left(\\frac{-\\sqrt{3}}{3}\\right)$ es un mínimo y el segundo $\\left(\\frac{\\sqrt{3}}{3}\\right)$ un máximo. Podemos comprobarlo trazando la gráfica correspondiente:"
   ]
  },
  {
   "cell_type": "code",
   "execution_count": 54,
   "metadata": {
    "collapsed": false
   },
   "outputs": [
    {
     "data": {
      "image/png": "[encoded data removed]",
      "text/plain": [
       "<matplotlib.figure.Figure at 0x8fabbb0>"
      ]
     },
     "metadata": {},
     "output_type": "display_data"
    },
    {
     "data": {
      "text/plain": [
       "<sympy.plotting.plot.Plot at 0x94ca890>"
      ]
     },
     "execution_count": 54,
     "metadata": {},
     "output_type": "execute_result"
    }
   ],
   "source": [
    "plot(f, (x, -1, 1))"
   ]
  },
  {
   "cell_type": "code",
   "execution_count": 40,
   "metadata": {
    "collapsed": false
   },
   "outputs": [],
   "source": [
    "def maxminf(f):\n",
    "    df = diff(f, x)\n",
    "    d2f = diff(f, x, 2)\n",
    "    pcs = solve(Eq(df,0))\n",
    "    for p in pcs:\n",
    "        try:\n",
    "            t = \"Min\" if d2f.subs(x,p) > 0 else \"Max\"\n",
    "            print(\"x = %f (%s)\"%(p,t))\n",
    "        except:\n",
    "            continue"
   ]
  },
  {
   "cell_type": "code",
   "execution_count": 45,
   "metadata": {
    "collapsed": false
   },
   "outputs": [
    {
     "name": "stdout",
     "output_type": "stream",
     "text": [
      "x = 0.000000 (Max)\n"
     ]
    }
   ],
   "source": [
    "maxminf(x**4 - 10)"
   ]
  }
 ],
 "metadata": {
  "kernelspec": {
   "display_name": "Python 2",
   "language": "python",
   "name": "python2"
  },
  "language_info": {
   "codemirror_mode": {
    "name": "ipython",
    "version": 2
   },
   "file_extension": ".py",
   "mimetype": "text/x-python",
   "name": "python",
   "nbconvert_exporter": "python",
   "pygments_lexer": "ipython2",
   "version": "2.7.11"
  },
  "nikola": {
   "category": "",
   "date": "2016-12-17 10:38:20 UTC-06:00",
   "description": "",
   "link": "",
   "slug": "maximos-y-minimos-de-una-funcion",
   "tags": "",
   "title": "Máximos y mínimos de una función",
   "type": "text"
  }
 },
 "nbformat": 4,
 "nbformat_minor": 1
}
