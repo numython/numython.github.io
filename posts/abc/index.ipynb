{
 "cells": [
  {
   "cell_type": "raw",
   "metadata": {},
   "source": [
    ".. title: Testeando Jupyter + Nikola\n",
    ".. slug: testeando-jupyter\n",
    ".. date: 2016-10-18 19:05:03 UTC-05:00\n",
    ".. tags: mathjax, sympy\n",
    ".. category: \n",
    ".. link: \n",
    ".. description: \n",
    ".. type: text"
   ]
  },
  {
   "cell_type": "markdown",
   "metadata": {},
   "source": [
    "\n",
    "Testeando Jupyter + Nikola\n",
    "\n",
    "\n",
    "$$ \\int_a^b f(x) dx = F(b) - F(a)  $$"
   ]
  },
  {
   "cell_type": "code",
   "execution_count": 1,
   "metadata": {
    "collapsed": false
   },
   "outputs": [
    {
     "data": {
      "text/latex": [
       "$$\\frac{1}{2} \\sin{\\left (x^{2} \\right )}$$"
      ],
      "text/plain": [
       "   ⎛ 2⎞\n",
       "sin⎝x ⎠\n",
       "───────\n",
       "   2   "
      ]
     },
     "execution_count": 1,
     "metadata": {},
     "output_type": "execute_result"
    }
   ],
   "source": [
    "from sympy import *\n",
    "init_printing(use_latex=\"mathjax\")\n",
    "\n",
    "x = Symbol('x')\n",
    "\n",
    "integrate(x*cos(x**2),x)"
   ]
  },
  {
   "cell_type": "code",
   "execution_count": null,
   "metadata": {
    "collapsed": true
   },
   "outputs": [],
   "source": []
  }
 ],
 "metadata": {
  "kernelspec": {
   "display_name": "Python 2",
   "language": "python",
   "name": "python2"
  },
  "language_info": {
   "codemirror_mode": {
    "name": "ipython",
    "version": 2
   },
   "file_extension": ".py",
   "mimetype": "text/x-python",
   "name": "python",
   "nbconvert_exporter": "python",
   "pygments_lexer": "ipython2",
   "version": "2.7.11"
  },
  "nikola": {
   "category": "",
   "date": "2016-10-18 19:43:05 UTC-05:00",
   "description": "",
   "link": "",
   "slug": "abc",
   "tags": "mathjax,sympy",
   "title": "Calculando derivadas",
   "type": "text"
  }
 },
 "nbformat": 4,
 "nbformat_minor": 1
}
