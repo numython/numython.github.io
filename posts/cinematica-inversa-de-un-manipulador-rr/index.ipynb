{
 "cells": [
  {
   "cell_type": "markdown",
   "metadata": {},
   "source": [
    "La cinemática inversa de un manipulador consiste en calcular los valores articulares requeridos para *alcanzar* una determinada posición y orientación en el espacio. Existen diversos métodos para el cálculo de la cinemática inversa, desde la obtención de soluciones en forma cerrada (deseable) hasta la implementación de técnicas numéricas.\n",
    "\n",
    "![RR](/img/rr_robot.png)\n",
    "\n"
   ]
  },
  {
   "cell_type": "code",
   "execution_count": null,
   "metadata": {},
   "outputs": [],
   "source": []
  }
 ],
 "metadata": {
  "kernelspec": {
   "display_name": "Python 3",
   "language": "python",
   "name": "python3"
  },
  "language_info": {
   "codemirror_mode": {
    "name": "ipython",
    "version": 3
   },
   "file_extension": ".py",
   "mimetype": "text/x-python",
   "name": "python",
   "nbconvert_exporter": "python",
   "pygments_lexer": "ipython3",
   "version": "3.6.3"
  },
  "nikola": {
   "category": "",
   "date": "2018-04-04 20:32:54 UTC-05:00",
   "description": "",
   "link": "",
   "slug": "cinematica-inversa-de-un-manipulador-rr",
   "tags": "kinematics,robotics,mathjax",
   "title": "Cinemática inversa de un manipulador RR",
   "type": "text"
  }
 },
 "nbformat": 4,
 "nbformat_minor": 2
}
