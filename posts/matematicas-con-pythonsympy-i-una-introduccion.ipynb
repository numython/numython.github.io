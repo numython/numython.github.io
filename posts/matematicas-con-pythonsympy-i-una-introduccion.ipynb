{
 "cells": [
  {
   "cell_type": "code",
   "execution_count": 1,
   "metadata": {
    "collapsed": false
   },
   "outputs": [],
   "source": [
    "import wx"
   ]
  },
  {
   "cell_type": "code",
   "execution_count": null,
   "metadata": {
    "collapsed": false
   },
   "outputs": [],
   "source": [
    "app = wx.App()\n",
    "fr = wx.Frame(None, -1, \"A\")\n",
    "app.MainLoop()"
   ]
  },
  {
   "cell_type": "code",
   "execution_count": null,
   "metadata": {
    "collapsed": true
   },
   "outputs": [],
   "source": []
  }
 ],
 "metadata": {
  "kernelspec": {
   "display_name": "Python 2",
   "language": "python",
   "name": "python2"
  },
  "language_info": {
   "codemirror_mode": {
    "name": "ipython",
    "version": 2
   },
   "file_extension": ".py",
   "mimetype": "text/x-python",
   "name": "python",
   "nbconvert_exporter": "python",
   "pygments_lexer": "ipython2",
   "version": "2.7.11"
  },
  "nikola": {
   "category": "",
   "date": "2016-10-22 19:05:52 UTC-05:00",
   "description": "",
   "link": "",
   "slug": "matematicas-con-pythonsympy-i-una-introduccion",
   "tags": "sympy, matemáticas, draft",
   "title": "Matemáticas con Python/SymPy I. Una introducción",
   "type": "text"
  }
 },
 "nbformat": 4,
 "nbformat_minor": 1
}
