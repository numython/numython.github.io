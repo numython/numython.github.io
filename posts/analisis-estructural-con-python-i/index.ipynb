{
 "cells": [
  {
   "cell_type": "markdown",
   "metadata": {},
   "source": [
    "El análisis estructural es uno de los aspectos elementales para aquellos \n",
    "que nos dedicamos al diseño mecánico o cuestiones similares. En los cursos \n",
    "universitarios de resistencia de materiales se enseñan algunos métodos \n",
    "analíticos que permiten obtener soluciones rápidas para componentes mecánicos \n",
    "simples. No obstante, cuando las geometrías se complican se hace necesario \n",
    "utilizar el enfoque numérico e implementar una metodología de solución utilizando \n",
    "el método de los elementos finitos, el cual proporciona una solución aproximada \n",
    "que será adecuada en medida de ciertos criterios, tales como el tamaño y tipo de \n",
    "elementos, la física del problema, entre otros.\n",
    "\n",
    "El propósito del presente minicurso es introducir al lector en el uso de las \n",
    "herramientas numéricas que proporciona Python para la solución de problemas de \n",
    "análisis estructural utilizando el MEF.\n",
    "\n",
    "El método de los elementos finitos consiste \n",
    "en la discretización de un continuo en pequeños elementos, con la finalidad de \n",
    "establecer un sistema de ecuaciones que describa de manera aproximada el comportamiento \n",
    "individual y global del sistema, pasando por la inclusión de las condiciones de frontera y todas \n",
    "las consideraciones físicas que deriven en la simplificación del problema. \n",
    "\n",
    "En análisis numérico estructural el método de los desplazamientos o de la rigidez, asume \n",
    "que los desplazamientos nodales son las variables desconocidas y comúnmente se debe resolver \n",
    "una ecuación algebraica del tipo:\n",
    "\n",
    "$$ F = K U $$\n",
    "\n",
    "Donde $F$ es el vector de fuerzas nodales, $K$ la matriz global de rigidez y $U$ el vector \n",
    "de desplazamientos nodales.\n",
    "\n",
    "Dado que normalmente los desplazamientos son las incógnitas, se tiene que:\n",
    "\n",
    "$$ U = K^{-1} F $$\n",
    "\n",
    "En el caso de un análisis estático lineal esta ecuación se resuelve como se muestra: calculando la inversa de la matriz rigidez y multiplicando por el vector de fuerzas nodales, para el caso de un análisis no lineal se utilizan métodos iterativos.\n",
    "\n",
    "La matriz global $K$ se obtiene de ensamblar todas las matrices de rigidez por elemento acorde a la numeración o posición de \n",
    "sus nodos.\n",
    "\n",
    "\n",
    "# Un caso muy simple: elementos resorte\n",
    "\n",
    "El elemento resorte es el elemento más sencillo, sólo tiene un grado de libertad (por cada nodo): en \n",
    "dirección axial. La matriz de rigidez para un elemento viene dada por:\n",
    "\n",
    "$$ k^{(e)} = \n",
    "\\begin{bmatrix}\n",
    "k_e & - k_e \\\\\n",
    "- k_e & k_e \\\\\n",
    "\\end{bmatrix} $$"
   ]
  },
  {
   "cell_type": "code",
   "execution_count": 45,
   "metadata": {
    "collapsed": false
   },
   "outputs": [],
   "source": [
    "from __future__ import division, print_function\n",
    "import numpy as np\n",
    "import numpy.linalg as la\n",
    "\n",
    "# Datos iniciales\n",
    "k = 1000.0\n",
    "P = 5000.0"
   ]
  },
  {
   "cell_type": "markdown",
   "metadata": {},
   "source": [
    "Ahora vamos con un ejemplo más elaborado que se muestra en la figura siguiente. \n",
    "\n",
    "![](/structural-analysis/spring_01.png)\n"
   ]
  },
  {
   "cell_type": "code",
   "execution_count": 46,
   "metadata": {
    "collapsed": false
   },
   "outputs": [
    {
     "name": "stdout",
     "output_type": "stream",
     "text": [
      "1  UX = 0.0000      FX = -909.0909\n",
      "2  UX = 0.0000      FX = -4090.9091\n",
      "3  UX = 0.9091      FX = 0.0000  \n",
      "4  UX = 1.3636      FX = 5000.0000\n"
     ]
    }
   ],
   "source": [
    "import numpy as np\n",
    "import numpy.linalg as la\n",
    "\n",
    "# Datos iniciales\n",
    "k1 = 1000.0\n",
    "k2 = 2000.0\n",
    "k3 = 3000.0\n",
    "P = 5000.0\n",
    "\n",
    "# Matrices por elemento\n",
    "K1 = np.array([[k1,-k1],[-k1,k1]])\n",
    "K2 = np.array([[k2,-k2],[-k2,k2]])\n",
    "K3 = np.array([[k3,-k3],[-k3,k3]])\n",
    "\n",
    "# Matriz global \n",
    "K = np.array([[  K1[0,0],        0,           K1[0,1],                0],\n",
    "               [      0 ,  K3[0,0],                 0,          K3[0,1]],\n",
    "               [ K1[1,0],        0,   K1[1,1]+K2[0,0],          K2[0,1]],\n",
    "               [       0,  K3[1,0],           K2[1,0],  K2[1,1]+K3[1,1]]])\n",
    "\n",
    "F = np.array([0, 0, 0, P])\n",
    "\n",
    "# Condiciones de frontera\n",
    "# Nodos 1 y 2 conocidos -> UX = 0\n",
    "KS = K[2:,2:]\n",
    "FS = F[2:]\n",
    "\n",
    "# Resolviendo\n",
    "USOL = la.solve(KS, FS)\n",
    "\n",
    "# Vector de desplazamientos\n",
    "USOL = np.concatenate(([0,0],USOL))\n",
    "\n",
    "# Obteniendo las fuerzas nodales\n",
    "NF = np.dot(K,USOL)\n",
    "\n",
    "# Presentando los resultados\n",
    "for nodo in range(4):\n",
    "    print(\"%g  UX = %-8.4f    FX = %-8.4f\"%(nodo+1, USOL[nodo], NF[nodo]))"
   ]
  },
  {
   "cell_type": "markdown",
   "metadata": {},
   "source": [
    "# Utilizando [NuSA](https://github.com/JorgeDeLosSantos/nusa): una librería para análisis estructural\n",
    "\n",
    "**NuSA** es una librería Python para el análisis estructural, que facilita el planteamiento y la solución de este tipo de análisis mediante una colección de clases que reciben como dato de entrada las características elementales de un modelo: coordenadas modales, propiedades del material, condiciones de frontera, etc., y retorna valores de salida básicos como desplazamientos y fuerzas.\n",
    "\n",
    "Para testear las capacidades de **NuSA** vamos a resolver el ejemplo del elemento resorte. Lo primero es importar las clases que usaremos: `Node`, `Spring` y `SpringModel`."
   ]
  },
  {
   "cell_type": "code",
   "execution_count": 63,
   "metadata": {
    "collapsed": true
   },
   "outputs": [],
   "source": [
    "from nusa.core import Node\n",
    "from nusa.element import Spring\n",
    "from nusa.model import SpringModel"
   ]
  },
  {
   "cell_type": "markdown",
   "metadata": {},
   "source": [
    "Luego creamos un modelo de tipo Spring utilizando la clase SpringModel:"
   ]
  },
  {
   "cell_type": "code",
   "execution_count": 64,
   "metadata": {
    "collapsed": false
   },
   "outputs": [
    {
     "name": "stdout",
     "output_type": "stream",
     "text": [
      "Model: Modelo 01\n",
      "Nodes: 0\n",
      "Elements: 0\n"
     ]
    }
   ],
   "source": [
    "m1 = SpringModel(\"Modelo 01\")\n",
    "print(m1)"
   ]
  },
  {
   "cell_type": "markdown",
   "metadata": {},
   "source": [
    "Ahora creamos los nodos que conformarán el elemento resorte:"
   ]
  },
  {
   "cell_type": "code",
   "execution_count": 65,
   "metadata": {
    "collapsed": false
   },
   "outputs": [
    {
     "name": "stdout",
     "output_type": "stream",
     "text": [
      "(<nusa.core.Node object at 0x064C5F90>, <nusa.core.Node object at 0x064C5F70>)\n"
     ]
    }
   ],
   "source": [
    "n1 = Node((0,0))\n",
    "n2 = Node((0,0))\n",
    "print((n1,n2))"
   ]
  },
  {
   "cell_type": "markdown",
   "metadata": {},
   "source": [
    "En este caso no es necesario especificar las coordenadas nodales dado que un elemento resorte sólo necesita la rigidez para la formulación, así que se pueden dejar ambos nodos con coordenadas (0,0).\n",
    "\n",
    "Enseguida se define un elemento de tipo `SpringElement`, cuyos datos de entrada son una tupla con los nodos que le conforman y la rigidez del elemento."
   ]
  },
  {
   "cell_type": "code",
   "execution_count": 66,
   "metadata": {
    "collapsed": false
   },
   "outputs": [
    {
     "name": "stdout",
     "output_type": "stream",
     "text": [
      "<class 'nusa.element.Spring'>\n"
     ]
    }
   ],
   "source": [
    "e1 = Spring((n1,n2),1000)\n",
    "print(e1)"
   ]
  },
  {
   "cell_type": "code",
   "execution_count": null,
   "metadata": {
    "collapsed": true
   },
   "outputs": [],
   "source": []
  },
  {
   "cell_type": "code",
   "execution_count": 67,
   "metadata": {
    "collapsed": false
   },
   "outputs": [
    {
     "data": {
      "text/latex": [
       "$$5.0$$"
      ],
      "text/plain": [
       "5.0"
      ]
     },
     "execution_count": 67,
     "metadata": {},
     "output_type": "execute_result"
    }
   ],
   "source": [
    "m1.addNode(n1)\n",
    "m1.addNode(n2)\n",
    "m1.addElement(e1)\n",
    "\n",
    "m1.addConstraint(n1, ux=0)\n",
    "m1.addForce(n2, (5000,))\n",
    "\n",
    "m1.solve()\n",
    "n2.ux"
   ]
  },
  {
   "cell_type": "markdown",
   "metadata": {},
   "source": [
    "## Referencias\n",
    "\n",
    "* [1] Logan, D. L. (1986). A first course in the finite element method. Boston: PWS Engineering.\n",
    "* [2] Zienkiewicz, O. C., Taylor, R. L., Zhu, J. Z., Zienkiewicz, O. C., & Zienkiewicz, O. C. (2005). The finite element method: Its basis and fundamentals. Oxford: Elsevier Butterworth-Heinemann."
   ]
  },
  {
   "cell_type": "code",
   "execution_count": null,
   "metadata": {
    "collapsed": true
   },
   "outputs": [],
   "source": []
  }
 ],
 "metadata": {
  "kernelspec": {
   "display_name": "Python 2",
   "language": "python",
   "name": "python2"
  },
  "language_info": {
   "codemirror_mode": {
    "name": "ipython",
    "version": 2
   },
   "file_extension": ".py",
   "mimetype": "text/x-python",
   "name": "python",
   "nbconvert_exporter": "python",
   "pygments_lexer": "ipython2",
   "version": "2.7.11"
  },
  "nikola": {
   "category": "",
   "date": "2016-11-11 20:31:20 UTC-05:00",
   "description": "",
   "link": "",
   "slug": "analisis-estructural-con-python-i",
   "tags": "numpy, structural analysis, fea, mathjax",
   "title": "Análisis estructural con Python I",
   "type": "text"
  }
 },
 "nbformat": 4,
 "nbformat_minor": 1
}
