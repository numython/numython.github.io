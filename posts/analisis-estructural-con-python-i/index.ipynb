{
 "cells": [
  {
   "cell_type": "markdown",
   "metadata": {},
   "source": [
    "El análisis estructural es uno de los aspectos elementales para aquellos \n",
    "que nos dedicamos al diseño mecánico o cuestiones similares. En los cursos \n",
    "universitarios de resistencia de materiales se enseñan algunos métodos \n",
    "analíticos que permiten obtener soluciones rápidas para componentes mecánicos \n",
    "simples. No obstante, cuando las geometrías se complican se hace necesario \n",
    "utilizar el enfoque numérico e implementar una metodología de solución utilizando \n",
    "el método de los elementos finitos, el cual proporciona una solución aproximada \n",
    "que será adecuada en medida de ciertos criterios, tales como el tamaño y tipo de \n",
    "elementos, la física del problema, entre otros.\n",
    "\n",
    "El propósito del presente minicurso es introducir al lector en el uso de las \n",
    "herramientas numéricas que proporciona Python para la solución de problemas de \n",
    "análisis estructural utilizando el MEF.\n",
    "\n",
    "Como pequeño recordatorio, sabemos que el método de los elementos finitos consiste \n",
    "en la discretización de un continuo en pequeños elementos, con la finalidad de \n",
    "establecer un sistema de ecuaciones que describa de manera aproximada el comportamiento \n",
    "individual y global del sistema, pasando por la inclusión de las condiciones de frontera y todas \n",
    "las consideraciones físicas que deriven en la simplificación del problema. \n",
    "\n",
    "En análisis numérico estructural el método de los desplazamientos o de la rigidez, asume \n",
    "que los desplazamientos nodales son las variables desconocidas y comúnmente se debe resolver \n",
    "una ecuación algebraica del tipo:\n",
    "\n",
    "$$ F = K U $$\n",
    "\n",
    "Donde F es el vector de fuerzas nodales, K la matriz global de rigidez y U el vector \n",
    "de desplazamientos nodales.\n",
    "\n",
    "Dado que normalmente los desplazamientos son las incógnitas, se tiene que:\n",
    "\n",
    "$$ U = K^{-1} F $$\n",
    "\n",
    "\n",
    "# Un caso muy simple: elementos resorte\n",
    "\n",
    "Vamos a comenzar con un ejemplo muy simple del sistema de resortes que se muestra en la \n",
    "figura siguiente. \n",
    "\n",
    "![](/structural-analysis/spring_01.png)\n",
    "\n",
    "El elemento resorte es el elemento más sencillo, sólo tiene un grado de libertad (por cada nodo): en \n",
    "dirección axial. La matriz de rigidez para un elemento viene dada por:\n",
    "\n",
    "$$ k^{(e)} = \n",
    "\\begin{bmatrix}\n",
    "k_e & - k_e \\\\\n",
    "- k_e & k_e \\\\\n",
    "\\end{bmatrix} $$"
   ]
  },
  {
   "cell_type": "code",
   "execution_count": 2,
   "metadata": {
    "collapsed": false
   },
   "outputs": [
    {
     "name": "stdout",
     "output_type": "stream",
     "text": [
      "1  UX = 0.0000      FX = -909.0909\n",
      "2  UX = 0.0000      FX = -4090.9091\n",
      "3  UX = 0.9091      FX = 0.0000  \n",
      "4  UX = 1.3636      FX = 5000.0000\n"
     ]
    }
   ],
   "source": [
    "# -*- coding: utf8 -*-\n",
    "import numpy as np\n",
    "import numpy.linalg as la\n",
    "\n",
    "# Datos iniciales\n",
    "k1 = 1000.0\n",
    "k2 = 2000.0\n",
    "k3 = 3000.0\n",
    "P = 5000.0\n",
    "\n",
    "# Matrices por elemento\n",
    "K1 = np.array([[k1,-k1],[-k1,k1]])\n",
    "K2 = np.array([[k2,-k2],[-k2,k2]])\n",
    "K3 = np.array([[k3,-k3],[-k3,k3]])\n",
    "\n",
    "# Matriz global \n",
    "K = np.array([[  K1[0,0],        0,           K1[0,1],                0],\n",
    "               [      0 ,  K3[0,0],                 0,          K3[0,1]],\n",
    "               [ K1[1,0],        0,   K1[1,1]+K2[0,0],          K2[0,1]],\n",
    "               [       0,  K3[1,0],           K2[1,0],  K2[1,1]+K3[1,1]]])\n",
    "\n",
    "F = np.array([0, 0, 0, P])\n",
    "\n",
    "# Condiciones de frontera\n",
    "# Nodos 1 y 2 conocidos -> UX = 0\n",
    "KS = K[2:,2:]\n",
    "FS = F[2:]\n",
    "\n",
    "# Resolviendo\n",
    "USOL = la.solve(KS, FS)\n",
    "\n",
    "# Vector de desplazamientos\n",
    "USOL = np.concatenate(([0,0],USOL))\n",
    "\n",
    "# Obteniendo las fuerzas nodales\n",
    "NF = np.dot(K,USOL)\n",
    "\n",
    "# Presentando los resultados\n",
    "for nodo in range(4):\n",
    "    print(\"%g  UX = %-8.4f    FX = %-8.4f\"%(nodo+1, USOL[nodo], NF[nodo]))"
   ]
  },
  {
   "cell_type": "code",
   "execution_count": null,
   "metadata": {
    "collapsed": true
   },
   "outputs": [],
   "source": []
  }
 ],
 "metadata": {
  "kernelspec": {
   "display_name": "Python 2",
   "language": "python",
   "name": "python2"
  },
  "language_info": {
   "codemirror_mode": {
    "name": "ipython",
    "version": 2
   },
   "file_extension": ".py",
   "mimetype": "text/x-python",
   "name": "python",
   "nbconvert_exporter": "python",
   "pygments_lexer": "ipython2",
   "version": "2.7.11"
  },
  "nikola": {
   "category": "",
   "date": "2016-11-11 20:31:20 UTC-05:00",
   "description": "",
   "link": "",
   "slug": "analisis-estructural-con-python-i",
   "tags": "numpy, structural analysis, fea, mathjax",
   "title": "Análisis estructural con Python I",
   "type": "text"
  }
 },
 "nbformat": 4,
 "nbformat_minor": 1
}
