{
 "cells": [
  {
   "cell_type": "markdown",
   "metadata": {},
   "source": [
    "Las integrales son unos de los conceptos básicos en la formación matemática de un ingeniero, es en términos básicos la \n",
    "operación inversa de la derivación. Pero, además del concepto puramente matemático, las integrales tienen múltiples \n",
    "interpretaciones geométricas y físicas.\n",
    "\n",
    "En un curso ordinario de cálculo se nos enseñan métodos para resolver de forma analítica funciones que sean integrables. \n",
    "Por ejemplo todos sabemos que la integral de una función constante será:\n",
    "\n",
    "$$ \\int a\\,dx = ax + C $$\n",
    "\n",
    "Y lo sabemos porque nos hemos aprendido reglas básicas de integración y por supuesto a indentificar el tipo \n",
    "de función. Actualmente existen paquetes de álgebra simbólica que son capaces de realizar esta tarea: identificar \n",
    "el caso que se tiene y aplicar métodos computacionales, hasta cierto grado complejos, para determinar la solución.\n",
    "\n",
    "Y claro, SymPy es uno de esos sistemas de álgebra computacional (CAS), en el que solo necesitamos escribir \n",
    "nuestra función a integrar, utilizar por ahí alguna rutina y obtener un resultado rápidamente. Pero claro, \n",
    "para ello debemos aprender mínimamente la sintaxis y eso es justo lo que veremos enseguida.\n",
    "\n",
    "### Integrales simples\n",
    "\n",
    "Vamos a ver cómo resolver integrales simples indefinidas, si, de esas que vemos en un primer curso. Para resolverlas \n",
    "tendremos que utilizar la función `ìntegrate`. Por ejemplo se tiene la siguiente función \\\\(f(x)=x^2-3x+2 \\\\).\n",
    "\n",
    "Como primer paso debemos importar lo que necesitaremos del paquete [SymPy](http://www.sympy.org/en/index.html):"
   ]
  },
  {
   "cell_type": "code",
   "execution_count": 4,
   "metadata": {
    "collapsed": false
   },
   "outputs": [],
   "source": [
    "from sympy import integrate, init_printing\n",
    "from sympy.abc import x\n",
    "init_printing(use_latex=\"mathjax\")"
   ]
  },
  {
   "cell_type": "markdown",
   "metadata": {},
   "source": [
    "Del módulo `abc` importamos la variable simbólica `x` e `ìntegrate` para resolver nuestra integral. Ahora, podemos \n",
    "*guardar* la función a integrar en una variable o bien pasarla directamente como argumento:"
   ]
  },
  {
   "cell_type": "code",
   "execution_count": 5,
   "metadata": {
    "collapsed": false
   },
   "outputs": [
    {
     "data": {
      "text/latex": [
       "$$\\frac{x^{3}}{3} - \\frac{3 x^{2}}{2} + 2 x$$"
      ],
      "text/plain": [
       " 3      2      \n",
       "x    3⋅x       \n",
       "── - ──── + 2⋅x\n",
       "3     2        "
      ]
     },
     "execution_count": 5,
     "metadata": {},
     "output_type": "execute_result"
    }
   ],
   "source": [
    "f = x**2 - 3*x + 2\n",
    "integrate(f)"
   ]
  },
  {
   "cell_type": "markdown",
   "metadata": {},
   "source": [
    "En este caso no hemos tenido incovenientes, porque en la expresión a integrar sólo existe una variable simbólica, pero \n",
    "si la expresión tuviese más de una, habría que especificar de manera explícita la variable respecto a la cual se integra:"
   ]
  },
  {
   "cell_type": "code",
   "execution_count": 6,
   "metadata": {
    "collapsed": false
   },
   "outputs": [],
   "source": [
    "from sympy.abc import a,b,c\n",
    "\n",
    "# f = a*x**2+b*x+c\n",
    "#integrate(f)"
   ]
  },
  {
   "cell_type": "markdown",
   "metadata": {},
   "source": [
    "Pues eso, si intentamos integrar la función \\\\(f(x)=ax^2+bx+c\\\\) sin especificar la variable de integración, Python nos mandará un error que es bastante sugerente al respecto. Así, lo correcto sería:"
   ]
  },
  {
   "cell_type": "code",
   "execution_count": 7,
   "metadata": {
    "collapsed": false
   },
   "outputs": [
    {
     "data": {
      "text/latex": [
       "$$\\frac{x^{3}}{3} - \\frac{3 x^{2}}{2} + 2 x$$"
      ],
      "text/plain": [
       " 3      2      \n",
       "x    3⋅x       \n",
       "── - ──── + 2⋅x\n",
       "3     2        "
      ]
     },
     "execution_count": 7,
     "metadata": {},
     "output_type": "execute_result"
    }
   ],
   "source": [
    "integrate(f,x)"
   ]
  },
  {
   "cell_type": "markdown",
   "metadata": {},
   "source": [
    "### Integrales definidas"
   ]
  },
  {
   "cell_type": "code",
   "execution_count": 8,
   "metadata": {
    "collapsed": false
   },
   "outputs": [
    {
     "data": {
      "text/latex": [
       "$$1$$"
      ],
      "text/plain": [
       "1"
      ]
     },
     "execution_count": 8,
     "metadata": {},
     "output_type": "execute_result"
    }
   ],
   "source": [
    "from sympy import cos,pi\n",
    "integrate(cos(x),(x,0,pi/2.0))"
   ]
  },
  {
   "cell_type": "code",
   "execution_count": null,
   "metadata": {
    "collapsed": true
   },
   "outputs": [],
   "source": []
  }
 ],
 "metadata": {
  "kernelspec": {
   "display_name": "Python 2",
   "language": "python",
   "name": "python2"
  },
  "language_info": {
   "codemirror_mode": {
    "name": "ipython",
    "version": 2
   },
   "file_extension": ".py",
   "mimetype": "text/x-python",
   "name": "python",
   "nbconvert_exporter": "python",
   "pygments_lexer": "ipython2",
   "version": "2.7.11"
  },
  "nikola": {
   "category": "",
   "date": "2016-10-18 20:31:20 UTC-05:00",
   "description": "",
   "link": "",
   "slug": "integrales-con-sympy",
   "tags": "sympy,mathjax,draft",
   "title": "Integrales con SymPy",
   "type": "text"
  }
 },
 "nbformat": 4,
 "nbformat_minor": 1
}
