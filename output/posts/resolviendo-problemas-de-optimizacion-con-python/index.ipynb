{
 "cells": [
  {
   "cell_type": "markdown",
   "metadata": {},
   "source": [
    "Se requiere diseñar un contenedor de desechos, cuya forma será la de un prisma rectangular de\n",
    "dimensiones x, y, z como se muestra en la figura. El volumen del contenedor deberá ser de\n",
    "0.08 $m^3$. Por requerimientos, la altura debe estar en el rango 0.6-0.65 m; además la diferencia\n",
    "absoluta de las dimensiones de la base no debe ser mayor al 10% de la suma de los mismos. Luego,\n",
    "la idea es diseñar el contenedor de tal forma que se utilice la menor cantidad de material posible.\n",
    "Nota: *El contenedor está abierto en la parte superior*.\n",
    "\n",
    "![](img/p1.jpg)\n",
    "\n",
    "\n",
    "$$ A(x,y,z) = 2xy + 2yz + xy $$\n",
    "\n",
    "$$ V = xyz = 0.08\\,\\, \\text{m}^3  \\,\\,\\,\\,\\,\\, \\rightarrow \\,\\,\\,\\,\\,\\, z = \\frac{V}{xy} $$\n",
    "\n",
    "$$ A(x,y) = 2\\frac{V}{y} + 2\\frac{V}{x} + xy $$"
   ]
  },
  {
   "cell_type": "code",
   "execution_count": null,
   "metadata": {
    "collapsed": true
   },
   "outputs": [],
   "source": []
  }
 ],
 "metadata": {
  "kernelspec": {
   "display_name": "Python 2",
   "language": "python",
   "name": "python2"
  },
  "language_info": {
   "codemirror_mode": {
    "name": "ipython",
    "version": 2
   },
   "file_extension": ".py",
   "mimetype": "text/x-python",
   "name": "python",
   "nbconvert_exporter": "python",
   "pygments_lexer": "ipython2",
   "version": "2.7.11"
  },
  "nikola": {
   "category": "",
   "date": "2016-11-18 23:34:55 UTC-06:00",
   "description": "",
   "link": "",
   "slug": "resolviendo-problemas-de-optimizacion-con-python",
   "tags": "scipy, matplotlib, optimización",
   "title": "Resolviendo problemas de optimización con Python",
   "type": "text"
  }
 },
 "nbformat": 4,
 "nbformat_minor": 1
}
