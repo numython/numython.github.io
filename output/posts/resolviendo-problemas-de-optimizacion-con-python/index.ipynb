{
 "cells": [
  {
   "cell_type": "markdown",
   "metadata": {},
   "source": [
    "**Ejemplo**. Se requiere diseñar un contenedor de desechos, cuya forma será la de un prisma rectangular de dimensiones x, y, z como se muestra en la figura. El volumen del contenedor deberá ser de 0.08 $m^3$. Por requerimientos, la altura debe estar en el rango 0.6-0.8 m, y los lados de la base deben medir al menos 0.1 m. Luego, la idea es diseñar el contenedor de tal forma que se utilice la menor cantidad de material posible. Nota: *El contenedor está abierto en la parte superior*.\n",
    "\n",
    "<img src=\"/img/p1.jpg\" width=\"150px\">\n",
    "\n",
    "  \n",
    "  \n",
    "\n",
    "\n",
    "La cantidad de material utilizada para fabricar el contenedor está directamente relacionada con el área del prisma rectangular, donde esta corresponde a la suma de las áreas para cada una de las caras, luego, basándonos en el esquema de la figura anterior, se puede expresar el área en función de sus dimensiones como sigue: \n",
    "\n",
    "$$ A(x_1,x_2,x_3) = 2x_1x_3 + 2x_2x_3 + x_1x_2 $$\n",
    "\n",
    "De la restricción de volumen se tiene que:\n",
    "\n",
    "$$ V = x_1 x_2 x_3 = 0.08\\,\\, \\text{m}^3  \\,\\,\\,\\,\\,\\, \\rightarrow \\,\\,\\,\\,\\,\\, x_3 = \\frac{V}{x_1 x_2} $$\n",
    "\n",
    "Entonces, sustituyendo $x_3$ en la primera ecuación podemos reescribirla en términos de $x_1$ y $x_2$ , como sigue:\n",
    "\n",
    "$$ A(x_1,x_2) = 2\\frac{V}{x_2} + 2\\frac{V}{x_1} + x_1x_2 $$\n",
    "\n",
    "Se pide que $0.6 \\leq x_3 \\leq 0.8$, lo cual se puede expresar como dos ecuaciones de restricción:\n",
    "\n",
    "$$ g_1(x_1,x_2) = \\frac{V}{x_1x_2} - 0.6 \\geq 0 $$\n",
    "$$ g_2(x_1,x_2) = \\frac{V}{x_1x_2} - 0.8 \\leq 0 $$\n",
    "\n",
    "Además, para los requirimientos dimensionales de la base se tiene:\n",
    "\n",
    "$$ g_3(x_1,x_2) = x_1 - 0.1 \\geq 0 $$\n",
    "$$ g_4(x_1,x_2) = x_2 - 0.1 \\geq 0 $$\n",
    "\n"
   ]
  },
  {
   "cell_type": "markdown",
   "metadata": {},
   "source": [
    "## Óptimo no restringido\n",
    "\n",
    "Un valor óptimo no restringido puede calcularse mediante herramientas elementales de cálculo variacional. Para obtener un punto crítico se resuelve el sistema de ecuaciones resultante de igualar a cero el gradiente de la función, es decir:\n",
    "\n",
    "$$ \\left[ \\vec{\\nabla} f \\right] = [0] $$\n",
    "\n",
    "Esto lo podemos calcular utilizando SymPy. Importamos la librería y las funciones `hessian` y `zeros` del módulo `matrices`:"
   ]
  },
  {
   "cell_type": "code",
   "execution_count": 1,
   "metadata": {
    "collapsed": false
   },
   "outputs": [],
   "source": [
    "from __future__ import division\n",
    "import sympy as sym\n",
    "from sympy.matrices import hessian, zeros\n",
    "sym.init_printing(use_latex=\"mathjax\")\n",
    "\n",
    "def gradient(f, varls):\n",
    "    \"\"\" Calcula el gradiente de una función f(x1,x2,...)\"\"\"\n",
    "    n = len(varls)\n",
    "    G = zeros(n,1)\n",
    "    for i in range(n):\n",
    "        G[i] = f.diff(varls[i])\n",
    "    return G"
   ]
  },
  {
   "cell_type": "markdown",
   "metadata": {},
   "source": [
    "Definimos las variables simbólicas a utilizar y la función $A(x_1,x_2)$"
   ]
  },
  {
   "cell_type": "code",
   "execution_count": 2,
   "metadata": {
    "collapsed": true
   },
   "outputs": [],
   "source": [
    "x1,x2,V = sym.symbols(\"x_1,x_2,V\")\n",
    "A = 2*(V/x2) + 2*(V/x1) + x1*x2"
   ]
  },
  {
   "cell_type": "markdown",
   "metadata": {},
   "source": [
    "Calculamos el gradiente de la función y establecemos el sistema de ecuaciones:"
   ]
  },
  {
   "cell_type": "code",
   "execution_count": 3,
   "metadata": {
    "collapsed": false
   },
   "outputs": [
    {
     "data": {
      "text/latex": [
       "$$\\left[\\begin{matrix}x_{2} - \\frac{0.16}{x_{1}^{2}}\\\\x_{1} - \\frac{0.16}{x_{2}^{2}}\\end{matrix}\\right] = \\left[\\begin{matrix}0\\\\0\\end{matrix}\\right]$$"
      ],
      "text/plain": [
       "⎡     0.16⎤      \n",
       "⎢x₂ - ────⎥ = ⎡0⎤\n",
       "⎢       2 ⎥   ⎢ ⎥\n",
       "⎢     x₁  ⎥   ⎣0⎦\n",
       "⎢         ⎥      \n",
       "⎢     0.16⎥      \n",
       "⎢x₁ - ────⎥      \n",
       "⎢       2 ⎥      \n",
       "⎣     x₂  ⎦      "
      ]
     },
     "execution_count": 3,
     "metadata": {},
     "output_type": "execute_result"
    }
   ],
   "source": [
    "G = gradient(A.subs(V,0.08), (x1,x2))\n",
    "sym.Eq(G,zeros(2,1))"
   ]
  },
  {
   "cell_type": "markdown",
   "metadata": {},
   "source": [
    "Resolviendo el sistema de ecuaciones, se tiene:"
   ]
  },
  {
   "cell_type": "code",
   "execution_count": 4,
   "metadata": {
    "collapsed": false
   },
   "outputs": [
    {
     "data": {
      "text/latex": [
       "$$\\left [ \\left ( 0.542883523318981, \\quad 0.542883523318981\\right ), \\quad \\left ( -0.271441761659491 - 0.470150922490239 i, \\quad -0.271441761659491 - 0.470150922490239 i\\right ), \\quad \\left ( -0.271441761659491 + 0.470150922490239 i, \\quad -0.271441761659491 + 0.470150922490239 i\\right )\\right ]$$"
      ],
      "text/plain": [
       "[(0.542883523318981, 0.542883523318981), (-0.271441761659491 - 0.4701509224902\n",
       "39⋅ⅈ, -0.271441761659491 - 0.470150922490239⋅ⅈ), (-0.271441761659491 + 0.47015\n",
       "0922490239⋅ⅈ, -0.271441761659491 + 0.470150922490239⋅ⅈ)]"
      ]
     },
     "execution_count": 4,
     "metadata": {},
     "output_type": "execute_result"
    }
   ],
   "source": [
    "sol = sym.solve(sym.Eq(G,zeros(2,1)), (x1,x2))\n",
    "sol"
   ]
  },
  {
   "cell_type": "markdown",
   "metadata": {},
   "source": [
    "Se obtienen dos soluciones complejas y una real, además, la solución real presenta dos valores iguales. \n",
    "\n",
    "Hasta ahora sabemos que la solución obtenida es un punto crítico, pero no podemos asegurar si es un máximo, un mínimo o un punto de silla. Luego, para comprobar si el punto calculado es un mínimo se puede utilizar el siguiente teorema:\n",
    "\n",
    "> **Teorema 1**. *Condición necesaria*: si $f(x)$ tiene un mínimo local en $x^*$ entonces:\n",
    ">\n",
    "> $$ \\frac{\\partial f(x^*)}{\\partial x_i} = 0 ; \\,\\,\\,\\, i=1,2,...,n $$\n",
    "> \n",
    "> *Condición necesaria de segundo orden*: si $f(x)$ tiene un mínimo local en $x^*$, entonces la matriz Hessiana \n",
    "> \n",
    "> $$ H(x^*) = \\left[ \\frac{\\partial^2 f}{\\partial x_i \\partial x_j} \\right]_{(nxn)} $$\n",
    ">\n",
    "> es positiva definida o semidefinida en el punto $x^*$.\n",
    "> \n",
    "> *Condición suficiente de segundo orden*: si la matriz $H(x^*)$ es positiva definida en el punto estacionario $x^*$, \n",
    "> entonces $x^*$ es un mínimo local para la función $f(x)$. \n",
    ">\n",
    "> Una matriz es positiva definida si sus eigenvalores son estrictamente positivos, es decir: $\\lambda_i > 0$\n",
    "\n",
    "De acuerdo al teorema 1, para que el punto calculado sea un mínimo, los eigenvalores de la matriz Hessiana de $A(x_1, x_2)$ evaluada en el punto crítico deben ser positivos. \n",
    "\n",
    "Calculando la matriz Hessiana:"
   ]
  },
  {
   "cell_type": "code",
   "execution_count": 5,
   "metadata": {
    "collapsed": false
   },
   "outputs": [
    {
     "data": {
      "text/latex": [
       "$$\\left[\\begin{matrix}2.0 & 1\\\\1 & 2.0\\end{matrix}\\right]$$"
      ],
      "text/plain": [
       "⎡2.0   1 ⎤\n",
       "⎢        ⎥\n",
       "⎣ 1   2.0⎦"
      ]
     },
     "execution_count": 5,
     "metadata": {},
     "output_type": "execute_result"
    }
   ],
   "source": [
    "H = hessian(A, (x1,x2))\n",
    "# evaluando en el punto calculado\n",
    "_x1, _x2 = sol[0][0], sol[0][1]\n",
    "H = H.subs({x1:_x1, x2:_x2, V:0.08})\n",
    "H"
   ]
  },
  {
   "cell_type": "markdown",
   "metadata": {},
   "source": [
    "Calculando los eigenvalores:"
   ]
  },
  {
   "cell_type": "code",
   "execution_count": 6,
   "metadata": {
    "collapsed": false
   },
   "outputs": [
    {
     "data": {
      "text/latex": [
       "$$\\left \\{ 1 : 1, \\quad 3 : 1\\right \\}$$"
      ],
      "text/plain": [
       "{1: 1, 3: 1}"
      ]
     },
     "execution_count": 6,
     "metadata": {},
     "output_type": "execute_result"
    }
   ],
   "source": [
    "egvals = H.eigenvals()\n",
    "egvals"
   ]
  },
  {
   "cell_type": "markdown",
   "metadata": {},
   "source": [
    "Dado que tanto $\\lambda_1 = 1$ como $\\lambda_2 = 3$ son positivos, entonces el punto calculado es un mínimo global no restringido.\n",
    "\n",
    "Ahora, si calculamos el valor de la altura $x_3$:"
   ]
  },
  {
   "cell_type": "code",
   "execution_count": 7,
   "metadata": {
    "collapsed": false
   },
   "outputs": [
    {
     "data": {
      "text/latex": [
       "$$0.884167600368324$$"
      ],
      "text/plain": [
       "0.884167600368324"
      ]
     },
     "execution_count": 7,
     "metadata": {},
     "output_type": "execute_result"
    }
   ],
   "source": [
    "_x3 = 0.08/(_x1*_x2)\n",
    "_x3\n",
    "A.subs({x1:0.543,x2:0.543,V:0.08})"
   ]
  },
  {
   "cell_type": "markdown",
   "metadata": {},
   "source": [
    "Vemos que no cumple con la restricción de altura dada. En lo subsiguiente se abordará el cómo utilizar otros métodos para resolver problemas de optimización con restricciones."
   ]
  },
  {
   "cell_type": "markdown",
   "metadata": {},
   "source": [
    "## Óptimización con restricciones\n",
    "\n",
    "La optimización con restricciones implica tomar en cuenta ecuaciones que definen regiones factibles. Uno de los métodos más simples para resolver problemas con restricciones es el método gráfico.\n",
    "\n",
    "#### Usando el método gráfico\n",
    "\n",
    "Resolver un problema de optimización por el método gráfico implica trazar las gráficas de contorno de la función objetivo, así como las regiones definidas por las restricciones, y luego mediante inspección ubicar el punto que optimice la función objetivo. Claro está que es un método que puede resultar poco preciso, pero normalmente sirve para dar una aproximación aceptable y que pueda utilizarse como punto de entrada para algoritmos numéricos como los que se verán en la siguiente sección."
   ]
  },
  {
   "cell_type": "code",
   "execution_count": 50,
   "metadata": {
    "collapsed": false
   },
   "outputs": [],
   "source": [
    "import matplotlib.pyplot as plt\n",
    "import numpy as np\n",
    "%matplotlib inline\n",
    "\n",
    "V = 0.08\n",
    "xmin,xmax,ymin,ymax = 0,1,0,1\n",
    "xx1 = np.linspace(xmin,xmax)\n",
    "xx2 = np.linspace(ymin,ymax)\n",
    "x1, x2 = np.meshgrid(xx1, xx2)\n",
    "f = 2*(V/x2) + 2*(V/x1) + x1*x2\n",
    "g1 = (V/(x1*x2)) - 0.6\n",
    "g2 = (V/(x1*x2)) - 0.8\n",
    "g3 = x1 - 0.1\n",
    "g4 = x2 - 0.1"
   ]
  },
  {
   "cell_type": "code",
   "execution_count": 51,
   "metadata": {
    "collapsed": false
   },
   "outputs": [
    {
     "data": {
      "text/latex": [
       "$$\\left ( 0, \\quad 1\\right )$$"
      ],
      "text/plain": [
       "(0, 1)"
      ]
     },
     "execution_count": 51,
     "metadata": {},
     "output_type": "execute_result"
    },
    {
     "data": {
      "image/png": "[encoded data removed]",
      "text/plain": [
       "<matplotlib.figure.Figure at 0xc9499d0>"
      ]
     },
     "metadata": {},
     "output_type": "display_data"
    }
   ],
   "source": [
    "fig = plt.figure()\n",
    "ax = fig.add_subplot(111)\n",
    "\n",
    "lvl = [0.889, 0.9, 0.925, 0.95, 1.0, 1.1, 1.25, 1.5, 1.75]\n",
    "cl = ax.contour(x1, x2, f, levels=lvl, cmap=\"viridis\")\n",
    "#x.clabel(cl)\n",
    "ax.contourf(x1, x2, g1, levels=[0,1], linestyles='--', linewidths=2, colors=\"b\", alpha=0.3)\n",
    "ax.contourf(x1, x2, g2, levels=[-1,0], linestyles='--', linewidths=2, colors='r', alpha=0.3)\n",
    "ax.contourf(x1, x2, g3, levels=[0,1], linestyles='--', linewidths=2, colors='k', alpha=0.2)\n",
    "ax.contourf(x1, x2, g4, levels=[0,1], linestyles='--', linewidths=2, colors='k', alpha=0.2)\n",
    "ax.plot([0.365],[0.365], 'wo')\n",
    "ax.set_xlim(xmin,xmax)\n",
    "ax.set_ylim(ymin,ymax)"
   ]
  },
  {
   "cell_type": "code",
   "execution_count": 49,
   "metadata": {
    "collapsed": false
   },
   "outputs": [
    {
     "data": {
      "text/plain": [
       "<matplotlib.contour.QuadContourSet at 0xcb69d70>"
      ]
     },
     "execution_count": 49,
     "metadata": {},
     "output_type": "execute_result"
    },
    {
     "data": {
      "image/png": "[encoded data removed]",
      "text/plain": [
       "<matplotlib.figure.Figure at 0xc933150>"
      ]
     },
     "metadata": {},
     "output_type": "display_data"
    }
   ],
   "source": [
    "plt.contourf(x1, x2, g1, levels=[0,1], colors=\"r\", alpha=0.4)\n",
    "plt.contourf(x1, x2, g2, levels=[-1,0], colors='b', alpha=0.4)\n",
    "plt.contourf(x1, x2, g3, levels=[0,1,2], linestyles='--', linewidths=2, alpha=0.4)\n",
    "plt.contourf(x1, x2, g4, levels=[0,1,2], linestyles='--', linewidths=2, alpha=0.4)"
   ]
  },
  {
   "cell_type": "code",
   "execution_count": 11,
   "metadata": {
    "collapsed": false
   },
   "outputs": [
    {
     "data": {
      "text/latex": [
       "$$\\frac{2 V}{x_{2}} + \\frac{2 V}{x_{1}} + x_{1} x_{2}$$"
      ],
      "text/plain": [
       "2⋅V   2⋅V        \n",
       "─── + ─── + x₁⋅x₂\n",
       " x₂    x₁        "
      ]
     },
     "execution_count": 11,
     "metadata": {},
     "output_type": "execute_result"
    }
   ],
   "source": [
    "A"
   ]
  },
  {
   "cell_type": "code",
   "execution_count": null,
   "metadata": {
    "collapsed": true
   },
   "outputs": [],
   "source": []
  }
 ],
 "metadata": {
  "kernelspec": {
   "display_name": "Python 2",
   "language": "python",
   "name": "python2"
  },
  "language_info": {
   "codemirror_mode": {
    "name": "ipython",
    "version": 2
   },
   "file_extension": ".py",
   "mimetype": "text/x-python",
   "name": "python",
   "nbconvert_exporter": "python",
   "pygments_lexer": "ipython2",
   "version": "2.7.11"
  },
  "nikola": {
   "category": "",
   "date": "2016-11-18 23:34:55 UTC-06:00",
   "description": "",
   "link": "",
   "slug": "resolviendo-problemas-de-optimizacion-con-python",
   "tags": "scipy, matplotlib, optimización",
   "title": "Resolviendo problemas de optimización con Python",
   "type": "text"
  }
 },
 "nbformat": 4,
 "nbformat_minor": 1
}
