{
 "cells": [
  {
   "cell_type": "markdown",
   "metadata": {},
   "source": [
    "Testeando Jupyter + Nikola\n",
    "\n",
    "\n",
    "$$ \\int_a^b f(x) dx = F(b) - F(a)  $$"
   ]
  },
  {
   "cell_type": "code",
   "execution_count": null,
   "metadata": {
    "collapsed": true
   },
   "outputs": [],
   "source": []
  }
 ],
 "metadata": {
  "kernelspec": {
   "display_name": "Python 2",
   "language": "python",
   "name": "python2"
  },
  "language_info": {
   "codemirror_mode": {
    "name": "ipython",
    "version": 2
   },
   "file_extension": ".py",
   "mimetype": "text/x-python",
   "name": "python",
   "nbconvert_exporter": "python",
   "pygments_lexer": "ipython2",
   "version": "2.7.11"
  },
  "nikola": {
   "category": "",
   "date": "2016-10-18 19:43:05 UTC-05:00",
   "description": "",
   "link": "",
   "slug": "abc",
   "tags": "",
   "title": "ABC",
   "type": "text"
  }
 },
 "nbformat": 4,
 "nbformat_minor": 1
}
