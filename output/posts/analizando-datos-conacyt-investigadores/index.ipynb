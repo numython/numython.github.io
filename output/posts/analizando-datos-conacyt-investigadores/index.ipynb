{
 "cells": [
  {
   "cell_type": "code",
   "execution_count": 197,
   "metadata": {
    "collapsed": false
   },
   "outputs": [],
   "source": [
    "from __future__ import division\n",
    "import pandas as pd\n",
    "import matplotlib.pyplot as plt\n",
    "import matplotlib as mpl\n",
    "plt.style.use(\"ggplot\")\n",
    "mpl.rcParams['xtick.labelsize'] = 6 \n",
    "mpl.rcParams['ytick.labelsize'] = 6 \n",
    "%matplotlib inline\n",
    "\n",
    "# Datos tomados de: http://datosabiertos.conacyt.gob.mx/publico/default.aspx\n",
    "filename = \"data/inv_sni.csv\"\n",
    "data = pd.read_csv(filename) # leyendo datos\n",
    "data.drop(data.columns[range(8,17)],axis=1,inplace=True) # Limpiando datos"
   ]
  },
  {
   "cell_type": "markdown",
   "metadata": {},
   "source": [
    "## Generalidades\n",
    "\n",
    "El número de total de investigadores"
   ]
  },
  {
   "cell_type": "code",
   "execution_count": 198,
   "metadata": {
    "collapsed": false
   },
   "outputs": [],
   "source": [
    "NUM_INV = len(data)"
   ]
  },
  {
   "cell_type": "markdown",
   "metadata": {},
   "source": [
    "Investigadores eméritos"
   ]
  },
  {
   "cell_type": "code",
   "execution_count": 199,
   "metadata": {
    "collapsed": false
   },
   "outputs": [
    {
     "data": {
      "text/plain": [
       "108"
      ]
     },
     "execution_count": 199,
     "metadata": {},
     "output_type": "execute_result"
    }
   ],
   "source": [
    "emeritos = data['EMERITO'].value_counts().E\n",
    "emeritos"
   ]
  },
  {
   "cell_type": "markdown",
   "metadata": {},
   "source": [
    "## Por niveles"
   ]
  },
  {
   "cell_type": "code",
   "execution_count": 223,
   "metadata": {
    "collapsed": false
   },
   "outputs": [
    {
     "data": {
      "text/html": [
       "<div>\n",
       "<table border=\"1\" class=\"dataframe\">\n",
       "  <thead>\n",
       "    <tr style=\"text-align: right;\">\n",
       "      <th></th>\n",
       "      <th>NIVEL</th>\n",
       "    </tr>\n",
       "  </thead>\n",
       "  <tbody>\n",
       "    <tr>\n",
       "      <th>1</th>\n",
       "      <td>12775</td>\n",
       "    </tr>\n",
       "    <tr>\n",
       "      <th>C</th>\n",
       "      <td>4575</td>\n",
       "    </tr>\n",
       "    <tr>\n",
       "      <th>2</th>\n",
       "      <td>3964</td>\n",
       "    </tr>\n",
       "    <tr>\n",
       "      <th>3</th>\n",
       "      <td>2002</td>\n",
       "    </tr>\n",
       "  </tbody>\n",
       "</table>\n",
       "</div>"
      ],
      "text/plain": [
       "   NIVEL\n",
       "1  12775\n",
       "C   4575\n",
       "2   3964\n",
       "3   2002"
      ]
     },
     "execution_count": 223,
     "metadata": {},
     "output_type": "execute_result"
    }
   ],
   "source": [
    "niveles = data['NIVEL'].value_counts().to_frame()\n",
    "niveles"
   ]
  },
  {
   "cell_type": "markdown",
   "metadata": {},
   "source": [
    "## Por género"
   ]
  },
  {
   "cell_type": "code",
   "execution_count": 220,
   "metadata": {
    "collapsed": false
   },
   "outputs": [
    {
     "data": {
      "text/html": [
       "<div>\n",
       "<table border=\"1\" class=\"dataframe\">\n",
       "  <thead>\n",
       "    <tr style=\"text-align: right;\">\n",
       "      <th></th>\n",
       "      <th>INVESTIGADORES</th>\n",
       "      <th>PORCENTAJE</th>\n",
       "    </tr>\n",
       "  </thead>\n",
       "  <tbody>\n",
       "    <tr>\n",
       "      <th>H</th>\n",
       "      <td>14969</td>\n",
       "      <td>64.200549</td>\n",
       "    </tr>\n",
       "    <tr>\n",
       "      <th>M</th>\n",
       "      <td>8347</td>\n",
       "      <td>35.799451</td>\n",
       "    </tr>\n",
       "  </tbody>\n",
       "</table>\n",
       "</div>"
      ],
      "text/plain": [
       "   INVESTIGADORES  PORCENTAJE\n",
       "H           14969   64.200549\n",
       "M            8347   35.799451"
      ]
     },
     "execution_count": 220,
     "metadata": {},
     "output_type": "execute_result"
    }
   ],
   "source": [
    "genero = data[\"GENERO\"].value_counts().to_frame(\"INVESTIGADORES\")\n",
    "genero[\"PORCENTAJE\"] = 100*genero[\"INVESTIGADORES\"]/(NUM_INV)\n",
    "genero"
   ]
  },
  {
   "cell_type": "markdown",
   "metadata": {},
   "source": [
    "## Por estados"
   ]
  },
  {
   "cell_type": "code",
   "execution_count": 201,
   "metadata": {
    "collapsed": false
   },
   "outputs": [
    {
     "data": {
      "image/png": "[encoded data removed]",
      "text/plain": [
       "<matplotlib.figure.Figure at 0xb8a7ff0>"
      ]
     },
     "metadata": {},
     "output_type": "display_data"
    }
   ],
   "source": [
    "estados = data['ESTADO'].value_counts()\n",
    "x = range(len(estados))\n",
    "plt.bar(x, estados.get_values(), 0.5, align=\"center\")\n",
    "plt.xticks(x, estados.keys(), rotation=\"vertical\")\n",
    "plt.xlim(min(x)-0.5, max(x)+0.5);"
   ]
  },
  {
   "cell_type": "code",
   "execution_count": 221,
   "metadata": {
    "collapsed": false
   },
   "outputs": [
    {
     "data": {
      "text/html": [
       "<div>\n",
       "<table border=\"1\" class=\"dataframe\">\n",
       "  <thead>\n",
       "    <tr style=\"text-align: right;\">\n",
       "      <th></th>\n",
       "      <th>INVESTIGADORES</th>\n",
       "      <th>Porcentaje</th>\n",
       "    </tr>\n",
       "  </thead>\n",
       "  <tbody>\n",
       "    <tr>\n",
       "      <th>DISTRITO FEDERAL</th>\n",
       "      <td>7831</td>\n",
       "      <td>33.587819</td>\n",
       "    </tr>\n",
       "    <tr>\n",
       "      <th>M?XICO, EDO. DE</th>\n",
       "      <td>1361</td>\n",
       "      <td>5.837444</td>\n",
       "    </tr>\n",
       "    <tr>\n",
       "      <th>JALISCO</th>\n",
       "      <td>1197</td>\n",
       "      <td>5.134034</td>\n",
       "    </tr>\n",
       "    <tr>\n",
       "      <th>NO DISPONIBLE</th>\n",
       "      <td>1013</td>\n",
       "      <td>4.344842</td>\n",
       "    </tr>\n",
       "    <tr>\n",
       "      <th>MORELOS</th>\n",
       "      <td>1008</td>\n",
       "      <td>4.323397</td>\n",
       "    </tr>\n",
       "    <tr>\n",
       "      <th>NUEVO LEON</th>\n",
       "      <td>962</td>\n",
       "      <td>4.126099</td>\n",
       "    </tr>\n",
       "    <tr>\n",
       "      <th>PUEBLA</th>\n",
       "      <td>881</td>\n",
       "      <td>3.778683</td>\n",
       "    </tr>\n",
       "    <tr>\n",
       "      <th>GUANAJUATO</th>\n",
       "      <td>801</td>\n",
       "      <td>3.435557</td>\n",
       "    </tr>\n",
       "    <tr>\n",
       "      <th>BAJA CALIFORNIA</th>\n",
       "      <td>715</td>\n",
       "      <td>3.066695</td>\n",
       "    </tr>\n",
       "    <tr>\n",
       "      <th>VERACRUZ</th>\n",
       "      <td>701</td>\n",
       "      <td>3.006648</td>\n",
       "    </tr>\n",
       "    <tr>\n",
       "      <th>MICHOACAN</th>\n",
       "      <td>687</td>\n",
       "      <td>2.946601</td>\n",
       "    </tr>\n",
       "    <tr>\n",
       "      <th>QUERETARO</th>\n",
       "      <td>617</td>\n",
       "      <td>2.646365</td>\n",
       "    </tr>\n",
       "    <tr>\n",
       "      <th>SAN LUIS POTOSI</th>\n",
       "      <td>573</td>\n",
       "      <td>2.457645</td>\n",
       "    </tr>\n",
       "    <tr>\n",
       "      <th>YUCATAN</th>\n",
       "      <td>552</td>\n",
       "      <td>2.367575</td>\n",
       "    </tr>\n",
       "    <tr>\n",
       "      <th>SONORA</th>\n",
       "      <td>475</td>\n",
       "      <td>2.037315</td>\n",
       "    </tr>\n",
       "    <tr>\n",
       "      <th>SINALOA</th>\n",
       "      <td>401</td>\n",
       "      <td>1.719923</td>\n",
       "    </tr>\n",
       "    <tr>\n",
       "      <th>CHIHUAHUA</th>\n",
       "      <td>381</td>\n",
       "      <td>1.634141</td>\n",
       "    </tr>\n",
       "    <tr>\n",
       "      <th>COAHUILA</th>\n",
       "      <td>340</td>\n",
       "      <td>1.458289</td>\n",
       "    </tr>\n",
       "    <tr>\n",
       "      <th>HIDALGO</th>\n",
       "      <td>323</td>\n",
       "      <td>1.385374</td>\n",
       "    </tr>\n",
       "    <tr>\n",
       "      <th>CHIAPAS</th>\n",
       "      <td>278</td>\n",
       "      <td>1.192365</td>\n",
       "    </tr>\n",
       "    <tr>\n",
       "      <th>OAXACA</th>\n",
       "      <td>270</td>\n",
       "      <td>1.158053</td>\n",
       "    </tr>\n",
       "    <tr>\n",
       "      <th>BAJA CALIFORNIA SUR</th>\n",
       "      <td>250</td>\n",
       "      <td>1.072271</td>\n",
       "    </tr>\n",
       "    <tr>\n",
       "      <th>ZACATECAS</th>\n",
       "      <td>201</td>\n",
       "      <td>0.862106</td>\n",
       "    </tr>\n",
       "    <tr>\n",
       "      <th>TAMAULIPAS</th>\n",
       "      <td>196</td>\n",
       "      <td>0.840661</td>\n",
       "    </tr>\n",
       "    <tr>\n",
       "      <th>COLIMA</th>\n",
       "      <td>192</td>\n",
       "      <td>0.823504</td>\n",
       "    </tr>\n",
       "    <tr>\n",
       "      <th>AGUASCALIENTES</th>\n",
       "      <td>173</td>\n",
       "      <td>0.742012</td>\n",
       "    </tr>\n",
       "    <tr>\n",
       "      <th>TABASCO</th>\n",
       "      <td>158</td>\n",
       "      <td>0.677675</td>\n",
       "    </tr>\n",
       "    <tr>\n",
       "      <th>DURANGO</th>\n",
       "      <td>155</td>\n",
       "      <td>0.664808</td>\n",
       "    </tr>\n",
       "    <tr>\n",
       "      <th>TLAXCALA</th>\n",
       "      <td>145</td>\n",
       "      <td>0.621917</td>\n",
       "    </tr>\n",
       "    <tr>\n",
       "      <th>CAMPECHE</th>\n",
       "      <td>131</td>\n",
       "      <td>0.561870</td>\n",
       "    </tr>\n",
       "    <tr>\n",
       "      <th>QUINTANA ROO</th>\n",
       "      <td>129</td>\n",
       "      <td>0.553292</td>\n",
       "    </tr>\n",
       "    <tr>\n",
       "      <th>NAYARIT</th>\n",
       "      <td>116</td>\n",
       "      <td>0.497534</td>\n",
       "    </tr>\n",
       "    <tr>\n",
       "      <th>GUERRERO</th>\n",
       "      <td>102</td>\n",
       "      <td>0.437487</td>\n",
       "    </tr>\n",
       "  </tbody>\n",
       "</table>\n",
       "</div>"
      ],
      "text/plain": [
       "                     INVESTIGADORES  Porcentaje\n",
       "DISTRITO FEDERAL               7831   33.587819\n",
       "M?XICO, EDO. DE                1361    5.837444\n",
       "JALISCO                        1197    5.134034\n",
       "NO DISPONIBLE                  1013    4.344842\n",
       "MORELOS                        1008    4.323397\n",
       "NUEVO LEON                      962    4.126099\n",
       "PUEBLA                          881    3.778683\n",
       "GUANAJUATO                      801    3.435557\n",
       "BAJA CALIFORNIA                 715    3.066695\n",
       "VERACRUZ                        701    3.006648\n",
       "MICHOACAN                       687    2.946601\n",
       "QUERETARO                       617    2.646365\n",
       "SAN LUIS POTOSI                 573    2.457645\n",
       "YUCATAN                         552    2.367575\n",
       "SONORA                          475    2.037315\n",
       "SINALOA                         401    1.719923\n",
       "CHIHUAHUA                       381    1.634141\n",
       "COAHUILA                        340    1.458289\n",
       "HIDALGO                         323    1.385374\n",
       "CHIAPAS                         278    1.192365\n",
       "OAXACA                          270    1.158053\n",
       "BAJA CALIFORNIA SUR             250    1.072271\n",
       "ZACATECAS                       201    0.862106\n",
       "TAMAULIPAS                      196    0.840661\n",
       "COLIMA                          192    0.823504\n",
       "AGUASCALIENTES                  173    0.742012\n",
       "TABASCO                         158    0.677675\n",
       "DURANGO                         155    0.664808\n",
       "TLAXCALA                        145    0.621917\n",
       "CAMPECHE                        131    0.561870\n",
       "QUINTANA ROO                    129    0.553292\n",
       "NAYARIT                         116    0.497534\n",
       "GUERRERO                        102    0.437487"
      ]
     },
     "execution_count": 221,
     "metadata": {},
     "output_type": "execute_result"
    }
   ],
   "source": [
    "ninv = sum(estados.values) # No. total de investigadores\n",
    "prc_df = estados.to_frame(\"INVESTIGADORES\")\n",
    "prc_df[\"Porcentaje\"] = 100*prc_df['INVESTIGADORES']/ninv\n",
    "prc_df"
   ]
  },
  {
   "cell_type": "markdown",
   "metadata": {},
   "source": [
    "## Por instituciones"
   ]
  },
  {
   "cell_type": "code",
   "execution_count": 222,
   "metadata": {
    "collapsed": false,
    "scrolled": true
   },
   "outputs": [
    {
     "data": {
      "image/png": "[encoded data removed]",
      "text/plain": [
       "<matplotlib.figure.Figure at 0x1b24b30>"
      ]
     },
     "metadata": {},
     "output_type": "display_data"
    }
   ],
   "source": [
    "inst = data['INSTITUCION'].value_counts()\n",
    "n = 20\n",
    "x = range(len(inst))[:n]\n",
    "plt.bar(x, inst.get_values()[:n], 0.5, align=\"center\")\n",
    "plt.xticks(x, inst.keys()[:n], rotation=90)\n",
    "plt.xlim(min(x)-0.5, max(x)+0.5);"
   ]
  },
  {
   "cell_type": "markdown",
   "metadata": {
    "collapsed": true
   },
   "source": [
    "## Título"
   ]
  },
  {
   "cell_type": "code",
   "execution_count": null,
   "metadata": {
    "collapsed": true
   },
   "outputs": [],
   "source": []
  },
  {
   "cell_type": "markdown",
   "metadata": {},
   "source": [
    "## Sobre las instituciones del Tecnológico Nacional de México (TECNM)\n",
    "\n",
    "Lo subsiguiente presenta el porcentaje de representación de las instituciones correspondientes al Tecnológico Nacional de México: es decir, todos los institutos tecnológicos centralizados y descentralizados, más el CENIDET y CIIDET."
   ]
  },
  {
   "cell_type": "code",
   "execution_count": 207,
   "metadata": {
    "collapsed": false,
    "scrolled": true
   },
   "outputs": [
    {
     "data": {
      "text/plain": [
       "2.5347400926402472"
      ]
     },
     "execution_count": 207,
     "metadata": {},
     "output_type": "execute_result"
    }
   ],
   "source": [
    "TECNOLOGICOS = sum(inst[inst.index.str.contains(\"INSTITUTO TECNOLOGICO (SUP|DE)\")])\n",
    "CENIDET = sum(inst[inst.index.str.contains(\"CENTRO NACIONAL DE INV*\")])\n",
    "CIIDET = sum(inst[inst.index.str.contains(\"INTERDISCIPLINARIO [\\w*\\s*\\.]* EDUCACION\")])\n",
    "porcentaje_tecnm = 100*(TECNOLOGICOS + CENIDET + CIIDET)/NUM_INV\n",
    "porcentaje_tecnm"
   ]
  },
  {
   "cell_type": "code",
   "execution_count": 206,
   "metadata": {
    "collapsed": false
   },
   "outputs": [],
   "source": []
  },
  {
   "cell_type": "markdown",
   "metadata": {},
   "source": [
    "Los tecnológicos con mayor cantidad de investigadores son:"
   ]
  },
  {
   "cell_type": "code",
   "execution_count": 224,
   "metadata": {
    "collapsed": false
   },
   "outputs": [
    {
     "data": {
      "text/html": [
       "<div>\n",
       "<table border=\"1\" class=\"dataframe\">\n",
       "  <thead>\n",
       "    <tr style=\"text-align: right;\">\n",
       "      <th></th>\n",
       "      <th>No. de Investigadores</th>\n",
       "    </tr>\n",
       "  </thead>\n",
       "  <tbody>\n",
       "    <tr>\n",
       "      <th>INSTITUTO TECNOLOGICO DE CELAYA</th>\n",
       "      <td>45</td>\n",
       "    </tr>\n",
       "    <tr>\n",
       "      <th>INSTITUTO TECNOLOGICO DE SONORA</th>\n",
       "      <td>43</td>\n",
       "    </tr>\n",
       "    <tr>\n",
       "      <th>INSTITUTO TECNOLOGICO DE TIJUANA</th>\n",
       "      <td>37</td>\n",
       "    </tr>\n",
       "    <tr>\n",
       "      <th>INSTITUTO TECNOLOGICO DE CIUDAD MADERO</th>\n",
       "      <td>25</td>\n",
       "    </tr>\n",
       "    <tr>\n",
       "      <th>INSTITUTO TECNOLOGICO DE MORELIA</th>\n",
       "      <td>23</td>\n",
       "    </tr>\n",
       "    <tr>\n",
       "      <th>INSTITUTO TECNOLOGICO DE VERACRUZ</th>\n",
       "      <td>20</td>\n",
       "    </tr>\n",
       "    <tr>\n",
       "      <th>INSTITUTO TECNOLOGICO DE TOLUCA</th>\n",
       "      <td>20</td>\n",
       "    </tr>\n",
       "    <tr>\n",
       "      <th>INSTITUTO TECNOLOGICO DE AGUASCALIENTES</th>\n",
       "      <td>19</td>\n",
       "    </tr>\n",
       "    <tr>\n",
       "      <th>INSTITUTO TECNOLOGICO DE CONKAL</th>\n",
       "      <td>16</td>\n",
       "    </tr>\n",
       "    <tr>\n",
       "      <th>INSTITUTO TECNOLOGICO DE DURANGO</th>\n",
       "      <td>13</td>\n",
       "    </tr>\n",
       "  </tbody>\n",
       "</table>\n",
       "</div>"
      ],
      "text/plain": [
       "                                         No. de Investigadores\n",
       "INSTITUTO TECNOLOGICO DE CELAYA                             45\n",
       "INSTITUTO TECNOLOGICO DE SONORA                             43\n",
       "INSTITUTO TECNOLOGICO DE TIJUANA                            37\n",
       "INSTITUTO TECNOLOGICO DE CIUDAD MADERO                      25\n",
       "INSTITUTO TECNOLOGICO DE MORELIA                            23\n",
       "INSTITUTO TECNOLOGICO DE VERACRUZ                           20\n",
       "INSTITUTO TECNOLOGICO DE TOLUCA                             20\n",
       "INSTITUTO TECNOLOGICO DE AGUASCALIENTES                     19\n",
       "INSTITUTO TECNOLOGICO DE CONKAL                             16\n",
       "INSTITUTO TECNOLOGICO DE DURANGO                            13"
      ]
     },
     "execution_count": 224,
     "metadata": {},
     "output_type": "execute_result"
    }
   ],
   "source": [
    "(inst[inst.index.str.contains(\"INSTITUTO TECNOLOGICO (SUP|DE)\")][:10]).to_frame(\"No. de Investigadores\")"
   ]
  },
  {
   "cell_type": "code",
   "execution_count": null,
   "metadata": {
    "collapsed": true
   },
   "outputs": [],
   "source": []
  }
 ],
 "metadata": {
  "kernelspec": {
   "display_name": "Python 2",
   "language": "python",
   "name": "python2"
  },
  "language_info": {
   "codemirror_mode": {
    "name": "ipython",
    "version": 2
   },
   "file_extension": ".py",
   "mimetype": "text/x-python",
   "name": "python",
   "nbconvert_exporter": "python",
   "pygments_lexer": "ipython2",
   "version": "2.7.11"
  },
  "nikola": {
   "category": "",
   "date": "2017-01-02 20:31:20 UTC-05:00",
   "description": "",
   "link": "",
   "slug": "analizando-datos-conacyt-investigadores",
   "tags": "conacyt,python,pandas",
   "title": "Analizando datos del CONACYT: De los investigadores",
   "type": "text"
  }
 },
 "nbformat": 4,
 "nbformat_minor": 1
}
